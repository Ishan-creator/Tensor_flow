{
  "nbformat": 4,
  "nbformat_minor": 0,
  "metadata": {
    "colab": {
      "provenance": []
    },
    "kernelspec": {
      "name": "python3",
      "display_name": "Python 3"
    },
    "language_info": {
      "name": "python"
    }
  },
  "cells": [
    {
      "cell_type": "code",
      "execution_count": 161,
      "metadata": {
        "id": "FTWQC6MHJEMW"
      },
      "outputs": [],
      "source": [
        "import pandas as pd\n",
        "import numpy as np\n",
        "import seaborn as sns\n",
        "import tensorflow as tf\n",
        "from tensorflow.keras.layers import Normalization , Dense , InputLayer\n",
        "from tensorflow.keras.losses import MeanSquaredError , MeanAbsoluteError , Huber\n",
        "from tensorflow.keras.optimizers import Adam\n",
        "from tensorflow.keras.metrics import RootMeanSquaredError\n",
        "from tensorflow.keras.activations import relu"
      ]
    },
    {
      "cell_type": "code",
      "source": [
        "df = pd.read_csv('train.csv')"
      ],
      "metadata": {
        "id": "2heoBxZBJP0R"
      },
      "execution_count": 116,
      "outputs": []
    },
    {
      "cell_type": "code",
      "source": [
        "df.head()"
      ],
      "metadata": {
        "id": "nJLijJhHJYnc",
        "colab": {
          "base_uri": "https://localhost:8080/",
          "height": 206
        },
        "outputId": "1c47cd97-fe21-4657-d54e-8ee074ec7b31"
      },
      "execution_count": 117,
      "outputs": [
        {
          "output_type": "execute_result",
          "data": {
            "text/plain": [
              "   v.id  on road old  on road now  years      km  rating  condition  economy  \\\n",
              "0     1       535651       798186      3   78945       1          2       14   \n",
              "1     2       591911       861056      6  117220       5          9        9   \n",
              "2     3       686990       770762      2  132538       2          8       15   \n",
              "3     4       573999       722381      4  101065       4          3       11   \n",
              "4     5       691388       811335      6   61559       3          9       12   \n",
              "\n",
              "   top speed  hp  torque  current price  \n",
              "0        177  73     123       351318.0  \n",
              "1        148  74      95       285001.5  \n",
              "2        181  53      97       215386.0  \n",
              "3        197  54     116       244295.5  \n",
              "4        160  53     105       531114.5  "
            ],
            "text/html": [
              "\n",
              "  <div id=\"df-35de5927-534b-4a30-b8b8-51785b162bd1\" class=\"colab-df-container\">\n",
              "    <div>\n",
              "<style scoped>\n",
              "    .dataframe tbody tr th:only-of-type {\n",
              "        vertical-align: middle;\n",
              "    }\n",
              "\n",
              "    .dataframe tbody tr th {\n",
              "        vertical-align: top;\n",
              "    }\n",
              "\n",
              "    .dataframe thead th {\n",
              "        text-align: right;\n",
              "    }\n",
              "</style>\n",
              "<table border=\"1\" class=\"dataframe\">\n",
              "  <thead>\n",
              "    <tr style=\"text-align: right;\">\n",
              "      <th></th>\n",
              "      <th>v.id</th>\n",
              "      <th>on road old</th>\n",
              "      <th>on road now</th>\n",
              "      <th>years</th>\n",
              "      <th>km</th>\n",
              "      <th>rating</th>\n",
              "      <th>condition</th>\n",
              "      <th>economy</th>\n",
              "      <th>top speed</th>\n",
              "      <th>hp</th>\n",
              "      <th>torque</th>\n",
              "      <th>current price</th>\n",
              "    </tr>\n",
              "  </thead>\n",
              "  <tbody>\n",
              "    <tr>\n",
              "      <th>0</th>\n",
              "      <td>1</td>\n",
              "      <td>535651</td>\n",
              "      <td>798186</td>\n",
              "      <td>3</td>\n",
              "      <td>78945</td>\n",
              "      <td>1</td>\n",
              "      <td>2</td>\n",
              "      <td>14</td>\n",
              "      <td>177</td>\n",
              "      <td>73</td>\n",
              "      <td>123</td>\n",
              "      <td>351318.0</td>\n",
              "    </tr>\n",
              "    <tr>\n",
              "      <th>1</th>\n",
              "      <td>2</td>\n",
              "      <td>591911</td>\n",
              "      <td>861056</td>\n",
              "      <td>6</td>\n",
              "      <td>117220</td>\n",
              "      <td>5</td>\n",
              "      <td>9</td>\n",
              "      <td>9</td>\n",
              "      <td>148</td>\n",
              "      <td>74</td>\n",
              "      <td>95</td>\n",
              "      <td>285001.5</td>\n",
              "    </tr>\n",
              "    <tr>\n",
              "      <th>2</th>\n",
              "      <td>3</td>\n",
              "      <td>686990</td>\n",
              "      <td>770762</td>\n",
              "      <td>2</td>\n",
              "      <td>132538</td>\n",
              "      <td>2</td>\n",
              "      <td>8</td>\n",
              "      <td>15</td>\n",
              "      <td>181</td>\n",
              "      <td>53</td>\n",
              "      <td>97</td>\n",
              "      <td>215386.0</td>\n",
              "    </tr>\n",
              "    <tr>\n",
              "      <th>3</th>\n",
              "      <td>4</td>\n",
              "      <td>573999</td>\n",
              "      <td>722381</td>\n",
              "      <td>4</td>\n",
              "      <td>101065</td>\n",
              "      <td>4</td>\n",
              "      <td>3</td>\n",
              "      <td>11</td>\n",
              "      <td>197</td>\n",
              "      <td>54</td>\n",
              "      <td>116</td>\n",
              "      <td>244295.5</td>\n",
              "    </tr>\n",
              "    <tr>\n",
              "      <th>4</th>\n",
              "      <td>5</td>\n",
              "      <td>691388</td>\n",
              "      <td>811335</td>\n",
              "      <td>6</td>\n",
              "      <td>61559</td>\n",
              "      <td>3</td>\n",
              "      <td>9</td>\n",
              "      <td>12</td>\n",
              "      <td>160</td>\n",
              "      <td>53</td>\n",
              "      <td>105</td>\n",
              "      <td>531114.5</td>\n",
              "    </tr>\n",
              "  </tbody>\n",
              "</table>\n",
              "</div>\n",
              "    <div class=\"colab-df-buttons\">\n",
              "\n",
              "  <div class=\"colab-df-container\">\n",
              "    <button class=\"colab-df-convert\" onclick=\"convertToInteractive('df-35de5927-534b-4a30-b8b8-51785b162bd1')\"\n",
              "            title=\"Convert this dataframe to an interactive table.\"\n",
              "            style=\"display:none;\">\n",
              "\n",
              "  <svg xmlns=\"http://www.w3.org/2000/svg\" height=\"24px\" viewBox=\"0 -960 960 960\">\n",
              "    <path d=\"M120-120v-720h720v720H120Zm60-500h600v-160H180v160Zm220 220h160v-160H400v160Zm0 220h160v-160H400v160ZM180-400h160v-160H180v160Zm440 0h160v-160H620v160ZM180-180h160v-160H180v160Zm440 0h160v-160H620v160Z\"/>\n",
              "  </svg>\n",
              "    </button>\n",
              "\n",
              "  <style>\n",
              "    .colab-df-container {\n",
              "      display:flex;\n",
              "      gap: 12px;\n",
              "    }\n",
              "\n",
              "    .colab-df-convert {\n",
              "      background-color: #E8F0FE;\n",
              "      border: none;\n",
              "      border-radius: 50%;\n",
              "      cursor: pointer;\n",
              "      display: none;\n",
              "      fill: #1967D2;\n",
              "      height: 32px;\n",
              "      padding: 0 0 0 0;\n",
              "      width: 32px;\n",
              "    }\n",
              "\n",
              "    .colab-df-convert:hover {\n",
              "      background-color: #E2EBFA;\n",
              "      box-shadow: 0px 1px 2px rgba(60, 64, 67, 0.3), 0px 1px 3px 1px rgba(60, 64, 67, 0.15);\n",
              "      fill: #174EA6;\n",
              "    }\n",
              "\n",
              "    .colab-df-buttons div {\n",
              "      margin-bottom: 4px;\n",
              "    }\n",
              "\n",
              "    [theme=dark] .colab-df-convert {\n",
              "      background-color: #3B4455;\n",
              "      fill: #D2E3FC;\n",
              "    }\n",
              "\n",
              "    [theme=dark] .colab-df-convert:hover {\n",
              "      background-color: #434B5C;\n",
              "      box-shadow: 0px 1px 3px 1px rgba(0, 0, 0, 0.15);\n",
              "      filter: drop-shadow(0px 1px 2px rgba(0, 0, 0, 0.3));\n",
              "      fill: #FFFFFF;\n",
              "    }\n",
              "  </style>\n",
              "\n",
              "    <script>\n",
              "      const buttonEl =\n",
              "        document.querySelector('#df-35de5927-534b-4a30-b8b8-51785b162bd1 button.colab-df-convert');\n",
              "      buttonEl.style.display =\n",
              "        google.colab.kernel.accessAllowed ? 'block' : 'none';\n",
              "\n",
              "      async function convertToInteractive(key) {\n",
              "        const element = document.querySelector('#df-35de5927-534b-4a30-b8b8-51785b162bd1');\n",
              "        const dataTable =\n",
              "          await google.colab.kernel.invokeFunction('convertToInteractive',\n",
              "                                                    [key], {});\n",
              "        if (!dataTable) return;\n",
              "\n",
              "        const docLinkHtml = 'Like what you see? Visit the ' +\n",
              "          '<a target=\"_blank\" href=https://colab.research.google.com/notebooks/data_table.ipynb>data table notebook</a>'\n",
              "          + ' to learn more about interactive tables.';\n",
              "        element.innerHTML = '';\n",
              "        dataTable['output_type'] = 'display_data';\n",
              "        await google.colab.output.renderOutput(dataTable, element);\n",
              "        const docLink = document.createElement('div');\n",
              "        docLink.innerHTML = docLinkHtml;\n",
              "        element.appendChild(docLink);\n",
              "      }\n",
              "    </script>\n",
              "  </div>\n",
              "\n",
              "\n",
              "<div id=\"df-c4f603f1-3aa6-466c-87e8-6e45685d3d2b\">\n",
              "  <button class=\"colab-df-quickchart\" onclick=\"quickchart('df-c4f603f1-3aa6-466c-87e8-6e45685d3d2b')\"\n",
              "            title=\"Suggest charts\"\n",
              "            style=\"display:none;\">\n",
              "\n",
              "<svg xmlns=\"http://www.w3.org/2000/svg\" height=\"24px\"viewBox=\"0 0 24 24\"\n",
              "     width=\"24px\">\n",
              "    <g>\n",
              "        <path d=\"M19 3H5c-1.1 0-2 .9-2 2v14c0 1.1.9 2 2 2h14c1.1 0 2-.9 2-2V5c0-1.1-.9-2-2-2zM9 17H7v-7h2v7zm4 0h-2V7h2v10zm4 0h-2v-4h2v4z\"/>\n",
              "    </g>\n",
              "</svg>\n",
              "  </button>\n",
              "\n",
              "<style>\n",
              "  .colab-df-quickchart {\n",
              "      --bg-color: #E8F0FE;\n",
              "      --fill-color: #1967D2;\n",
              "      --hover-bg-color: #E2EBFA;\n",
              "      --hover-fill-color: #174EA6;\n",
              "      --disabled-fill-color: #AAA;\n",
              "      --disabled-bg-color: #DDD;\n",
              "  }\n",
              "\n",
              "  [theme=dark] .colab-df-quickchart {\n",
              "      --bg-color: #3B4455;\n",
              "      --fill-color: #D2E3FC;\n",
              "      --hover-bg-color: #434B5C;\n",
              "      --hover-fill-color: #FFFFFF;\n",
              "      --disabled-bg-color: #3B4455;\n",
              "      --disabled-fill-color: #666;\n",
              "  }\n",
              "\n",
              "  .colab-df-quickchart {\n",
              "    background-color: var(--bg-color);\n",
              "    border: none;\n",
              "    border-radius: 50%;\n",
              "    cursor: pointer;\n",
              "    display: none;\n",
              "    fill: var(--fill-color);\n",
              "    height: 32px;\n",
              "    padding: 0;\n",
              "    width: 32px;\n",
              "  }\n",
              "\n",
              "  .colab-df-quickchart:hover {\n",
              "    background-color: var(--hover-bg-color);\n",
              "    box-shadow: 0 1px 2px rgba(60, 64, 67, 0.3), 0 1px 3px 1px rgba(60, 64, 67, 0.15);\n",
              "    fill: var(--button-hover-fill-color);\n",
              "  }\n",
              "\n",
              "  .colab-df-quickchart-complete:disabled,\n",
              "  .colab-df-quickchart-complete:disabled:hover {\n",
              "    background-color: var(--disabled-bg-color);\n",
              "    fill: var(--disabled-fill-color);\n",
              "    box-shadow: none;\n",
              "  }\n",
              "\n",
              "  .colab-df-spinner {\n",
              "    border: 2px solid var(--fill-color);\n",
              "    border-color: transparent;\n",
              "    border-bottom-color: var(--fill-color);\n",
              "    animation:\n",
              "      spin 1s steps(1) infinite;\n",
              "  }\n",
              "\n",
              "  @keyframes spin {\n",
              "    0% {\n",
              "      border-color: transparent;\n",
              "      border-bottom-color: var(--fill-color);\n",
              "      border-left-color: var(--fill-color);\n",
              "    }\n",
              "    20% {\n",
              "      border-color: transparent;\n",
              "      border-left-color: var(--fill-color);\n",
              "      border-top-color: var(--fill-color);\n",
              "    }\n",
              "    30% {\n",
              "      border-color: transparent;\n",
              "      border-left-color: var(--fill-color);\n",
              "      border-top-color: var(--fill-color);\n",
              "      border-right-color: var(--fill-color);\n",
              "    }\n",
              "    40% {\n",
              "      border-color: transparent;\n",
              "      border-right-color: var(--fill-color);\n",
              "      border-top-color: var(--fill-color);\n",
              "    }\n",
              "    60% {\n",
              "      border-color: transparent;\n",
              "      border-right-color: var(--fill-color);\n",
              "    }\n",
              "    80% {\n",
              "      border-color: transparent;\n",
              "      border-right-color: var(--fill-color);\n",
              "      border-bottom-color: var(--fill-color);\n",
              "    }\n",
              "    90% {\n",
              "      border-color: transparent;\n",
              "      border-bottom-color: var(--fill-color);\n",
              "    }\n",
              "  }\n",
              "</style>\n",
              "\n",
              "  <script>\n",
              "    async function quickchart(key) {\n",
              "      const quickchartButtonEl =\n",
              "        document.querySelector('#' + key + ' button');\n",
              "      quickchartButtonEl.disabled = true;  // To prevent multiple clicks.\n",
              "      quickchartButtonEl.classList.add('colab-df-spinner');\n",
              "      try {\n",
              "        const charts = await google.colab.kernel.invokeFunction(\n",
              "            'suggestCharts', [key], {});\n",
              "      } catch (error) {\n",
              "        console.error('Error during call to suggestCharts:', error);\n",
              "      }\n",
              "      quickchartButtonEl.classList.remove('colab-df-spinner');\n",
              "      quickchartButtonEl.classList.add('colab-df-quickchart-complete');\n",
              "    }\n",
              "    (() => {\n",
              "      let quickchartButtonEl =\n",
              "        document.querySelector('#df-c4f603f1-3aa6-466c-87e8-6e45685d3d2b button');\n",
              "      quickchartButtonEl.style.display =\n",
              "        google.colab.kernel.accessAllowed ? 'block' : 'none';\n",
              "    })();\n",
              "  </script>\n",
              "</div>\n",
              "\n",
              "    </div>\n",
              "  </div>\n"
            ]
          },
          "metadata": {},
          "execution_count": 117
        }
      ]
    },
    {
      "cell_type": "code",
      "source": [
        "df.columns"
      ],
      "metadata": {
        "colab": {
          "base_uri": "https://localhost:8080/"
        },
        "id": "Icn6Nm9wJsNR",
        "outputId": "394a9c95-b873-4bc7-d4a5-62a46bbd1d19"
      },
      "execution_count": 118,
      "outputs": [
        {
          "output_type": "execute_result",
          "data": {
            "text/plain": [
              "Index(['v.id', 'on road old', 'on road now', 'years', 'km', 'rating',\n",
              "       'condition', 'economy', 'top speed', 'hp', 'torque', 'current price'],\n",
              "      dtype='object')"
            ]
          },
          "metadata": {},
          "execution_count": 118
        }
      ]
    },
    {
      "cell_type": "code",
      "source": [
        "# sns.pairplot(df[['years', 'km', 'rating',\n",
        "#        'condition', 'economy', 'top speed', 'hp', 'torque', 'current price']], diag_kind = 'kde')"
      ],
      "metadata": {
        "id": "jnuXZoU0KnK1"
      },
      "execution_count": 119,
      "outputs": []
    },
    {
      "cell_type": "code",
      "source": [
        "df = tf.constant(df)\n",
        "df = tf.cast(df, tf.float32)\n",
        "\n",
        "print(df)"
      ],
      "metadata": {
        "colab": {
          "base_uri": "https://localhost:8080/"
        },
        "id": "heGFYE1IKw3r",
        "outputId": "ef047b63-2a7b-4759-a832-0bb6082a4685"
      },
      "execution_count": 120,
      "outputs": [
        {
          "output_type": "stream",
          "name": "stdout",
          "text": [
            "tf.Tensor(\n",
            "[[1.000000e+00 5.356510e+05 7.981860e+05 ... 7.300000e+01 1.230000e+02\n",
            "  3.513180e+05]\n",
            " [2.000000e+00 5.919110e+05 8.610560e+05 ... 7.400000e+01 9.500000e+01\n",
            "  2.850015e+05]\n",
            " [3.000000e+00 6.869900e+05 7.707620e+05 ... 5.300000e+01 9.700000e+01\n",
            "  2.153860e+05]\n",
            " ...\n",
            " [9.980000e+02 6.463440e+05 8.427330e+05 ... 1.130000e+02 8.900000e+01\n",
            "  4.058710e+05]\n",
            " [9.990000e+02 5.355590e+05 7.324390e+05 ... 1.120000e+02 1.280000e+02\n",
            "  7.439800e+04]\n",
            " [1.000000e+03 5.901050e+05 7.797430e+05 ... 9.900000e+01 9.600000e+01\n",
            "  4.149385e+05]], shape=(1000, 12), dtype=float32)\n"
          ]
        }
      ]
    },
    {
      "cell_type": "code",
      "source": [
        "df = tf.random.shuffle(df)\n",
        "print(df)"
      ],
      "metadata": {
        "colab": {
          "base_uri": "https://localhost:8080/"
        },
        "id": "2Ak1SC8FHlls",
        "outputId": "af3604dd-4f11-40ff-a818-168fb0b4b5e6"
      },
      "execution_count": 121,
      "outputs": [
        {
          "output_type": "stream",
          "name": "stdout",
          "text": [
            "tf.Tensor(\n",
            "[[5.000000e+02 5.114870e+05 8.498440e+05 ... 7.300000e+01 7.800000e+01\n",
            "  3.158415e+05]\n",
            " [4.000000e+01 6.694140e+05 8.257230e+05 ... 5.000000e+01 9.000000e+01\n",
            "  2.509550e+05]\n",
            " [4.100000e+01 5.959670e+05 8.730680e+05 ... 8.400000e+01 7.900000e+01\n",
            "  3.975220e+05]\n",
            " ...\n",
            " [8.720000e+02 6.606650e+05 8.429670e+05 ... 1.150000e+02 1.350000e+02\n",
            "  3.990555e+05]\n",
            " [7.570000e+02 6.338370e+05 7.764690e+05 ... 7.200000e+01 1.250000e+02\n",
            "  4.468750e+05]\n",
            " [1.400000e+02 6.389460e+05 7.932150e+05 ... 6.600000e+01 8.800000e+01\n",
            "  1.148600e+05]], shape=(1000, 12), dtype=float32)\n"
          ]
        }
      ]
    },
    {
      "cell_type": "code",
      "source": [
        "X = df[:,3:-1]\n",
        "X.shape"
      ],
      "metadata": {
        "colab": {
          "base_uri": "https://localhost:8080/"
        },
        "id": "N1DnyeR1TXfD",
        "outputId": "f7410337-7ea8-4b2c-aaca-d3ae5798d6d9"
      },
      "execution_count": 122,
      "outputs": [
        {
          "output_type": "execute_result",
          "data": {
            "text/plain": [
              "TensorShape([1000, 8])"
            ]
          },
          "metadata": {},
          "execution_count": 122
        }
      ]
    },
    {
      "cell_type": "code",
      "source": [
        "y = df[: , -1]\n",
        "y = tf.expand_dims(y , axis = -1)\n",
        "y.shape"
      ],
      "metadata": {
        "colab": {
          "base_uri": "https://localhost:8080/"
        },
        "id": "IQLx1NysUXLv",
        "outputId": "81a98b88-95f5-4a65-d0f7-34b8a484448a"
      },
      "execution_count": 123,
      "outputs": [
        {
          "output_type": "execute_result",
          "data": {
            "text/plain": [
              "TensorShape([1000, 1])"
            ]
          },
          "metadata": {},
          "execution_count": 123
        }
      ]
    },
    {
      "cell_type": "code",
      "source": [
        "train_ratio = 0.8\n",
        "val_ratio = 0.1\n",
        "test_ratio = 0.1\n",
        "\n",
        "dataset_length = len(X)"
      ],
      "metadata": {
        "id": "xtGOuf4-wa0S"
      },
      "execution_count": 124,
      "outputs": []
    },
    {
      "cell_type": "code",
      "source": [
        "X_train = X[:int(dataset_length *  train_ratio)]\n",
        "y_train = y[:int(dataset_length *  train_ratio)]\n",
        "print(X_train.shape)\n",
        "print(y_train.shape)"
      ],
      "metadata": {
        "colab": {
          "base_uri": "https://localhost:8080/"
        },
        "id": "AQX_7Y7xwb0P",
        "outputId": "260535d0-9557-4da8-cc69-c137ec6fc659"
      },
      "execution_count": 125,
      "outputs": [
        {
          "output_type": "stream",
          "name": "stdout",
          "text": [
            "(800, 8)\n",
            "(800, 1)\n"
          ]
        }
      ]
    },
    {
      "cell_type": "code",
      "source": [
        "X_val = X[int(dataset_length *  train_ratio):int(dataset_length * ( train_ratio +val_ratio))]\n",
        "y_val = y[int(dataset_length *  train_ratio):int(dataset_length * ( train_ratio +val_ratio))]\n",
        "print(X_val.shape)\n",
        "print(y_val.shape)"
      ],
      "metadata": {
        "colab": {
          "base_uri": "https://localhost:8080/"
        },
        "id": "FKEc_avgwb22",
        "outputId": "25ce8aa0-3ca7-4428-f2f9-1e470d38f280"
      },
      "execution_count": 126,
      "outputs": [
        {
          "output_type": "stream",
          "name": "stdout",
          "text": [
            "(100, 8)\n",
            "(100, 1)\n"
          ]
        }
      ]
    },
    {
      "cell_type": "code",
      "source": [
        "X_test= X[int(dataset_length * ( train_ratio +val_ratio)):]\n",
        "y_test = y[int(dataset_length * ( train_ratio +val_ratio)):]\n",
        "print(X_test.shape)\n",
        "print(y_test.shape)"
      ],
      "metadata": {
        "colab": {
          "base_uri": "https://localhost:8080/"
        },
        "id": "HcA0Pd3lwb6M",
        "outputId": "99cde973-e509-45b3-c1c9-496c9b2c8593"
      },
      "execution_count": 127,
      "outputs": [
        {
          "output_type": "stream",
          "name": "stdout",
          "text": [
            "(100, 8)\n",
            "(100, 1)\n"
          ]
        }
      ]
    },
    {
      "cell_type": "code",
      "source": [
        "normalizer = Normalization()\n",
        "normalizer.adapt(X_train)\n",
        "normalizer(X_train)"
      ],
      "metadata": {
        "colab": {
          "base_uri": "https://localhost:8080/"
        },
        "id": "MYiCCDr_VF-J",
        "outputId": "ada08efe-c92f-4fff-9bd5-ec0482eec4de"
      },
      "execution_count": 128,
      "outputs": [
        {
          "output_type": "execute_result",
          "data": {
            "text/plain": [
              "<tf.Tensor: shape=(800, 8), dtype=float32, numpy=\n",
              "array([[-1.4948224 , -0.29901215, -1.4025791 , ...,  1.5109267 ,\n",
              "        -0.5655256 , -1.1995573 ],\n",
              "       [-0.32527903,  0.80329037,  0.02226316, ..., -0.38823715,\n",
              "        -1.6947354 , -0.6303722 ],\n",
              "       [ 0.25949264, -0.539262  ,  1.4471053 , ..., -0.49089465,\n",
              "        -0.02546874, -1.1521252 ],\n",
              "       ...,\n",
              "       [-0.9100507 ,  1.2695216 , -0.69015795, ...,  0.48435166,\n",
              "        -0.17275698, -0.7726685 ],\n",
              "       [ 1.429036  ,  1.5899583 ,  0.02226316, ..., -0.18292212,\n",
              "        -0.4182374 ,  1.1720474 ],\n",
              "       [ 1.429036  ,  1.5223471 ,  1.4471053 , ..., -0.79886717,\n",
              "        -0.811006  ,  0.22340548]], dtype=float32)>"
            ]
          },
          "metadata": {},
          "execution_count": 128
        }
      ]
    },
    {
      "cell_type": "code",
      "source": [
        "model = tf.keras.Sequential([\n",
        "    InputLayer(input_shape = (8,)),\n",
        "    normalizer,\n",
        "    Dense(128 , activation = 'relu'),\n",
        "    Dense(128 , activation = 'relu'),\n",
        "    Dense(128 , activation = 'relu'),\n",
        "    Dense(1)\n",
        "])\n",
        "model.summary()"
      ],
      "metadata": {
        "id": "NzEZNKAece5H",
        "colab": {
          "base_uri": "https://localhost:8080/"
        },
        "outputId": "a8943c1b-b104-461f-be66-c68c7da4c7e0"
      },
      "execution_count": 165,
      "outputs": [
        {
          "output_type": "stream",
          "name": "stdout",
          "text": [
            "Model: \"sequential_9\"\n",
            "_________________________________________________________________\n",
            " Layer (type)                Output Shape              Param #   \n",
            "=================================================================\n",
            " normalization_5 (Normaliza  (None, 8)                 17        \n",
            " tion)                                                           \n",
            "                                                                 \n",
            " dense_13 (Dense)            (None, 128)               1152      \n",
            "                                                                 \n",
            " dense_14 (Dense)            (None, 128)               16512     \n",
            "                                                                 \n",
            " dense_15 (Dense)            (None, 128)               16512     \n",
            "                                                                 \n",
            " dense_16 (Dense)            (None, 1)                 129       \n",
            "                                                                 \n",
            "=================================================================\n",
            "Total params: 34322 (134.07 KB)\n",
            "Trainable params: 34305 (134.00 KB)\n",
            "Non-trainable params: 17 (72.00 Byte)\n",
            "_________________________________________________________________\n"
          ]
        }
      ]
    },
    {
      "cell_type": "code",
      "source": [
        "tf.keras.utils.plot_model(model , show_shapes = True)"
      ],
      "metadata": {
        "colab": {
          "base_uri": "https://localhost:8080/",
          "height": 644
        },
        "id": "tf7E3mKAgNxG",
        "outputId": "a5352b76-ae70-44ee-8e89-9d0227bb7704"
      },
      "execution_count": 166,
      "outputs": [
        {
          "output_type": "execute_result",
          "data": {
            "image/png": "[encoded data removed]",
            "text/plain": [
              "<IPython.core.display.Image object>"
            ]
          },
          "metadata": {},
          "execution_count": 166
        }
      ]
    },
    {
      "cell_type": "code",
      "source": [
        "model.compile(optimizer = Adam( learning_rate= 1),\n",
        "              loss= MeanAbsoluteError(),\n",
        "              metrics = RootMeanSquaredError())"
      ],
      "metadata": {
        "id": "RWshqRyuiVyH"
      },
      "execution_count": 167,
      "outputs": []
    },
    {
      "cell_type": "code",
      "source": [
        "history = model.fit(X_train,y_train, validation_data= (X_val , y_val),   epochs = 100 , verbose = 1)"
      ],
      "metadata": {
        "colab": {
          "base_uri": "https://localhost:8080/"
        },
        "id": "UwQ6aTmonl3W",
        "outputId": "5fd669df-d6c2-498b-ca3d-5c7195a7d066"
      },
      "execution_count": 168,
      "outputs": [
        {
          "output_type": "stream",
          "name": "stdout",
          "text": [
            "Epoch 1/100\n",
            "25/25 [==============================] - 1s 11ms/step - loss: 296879.5000 - root_mean_squared_error: 325595.3750 - val_loss: 197830.5781 - val_root_mean_squared_error: 237771.3125\n",
            "Epoch 2/100\n",
            "25/25 [==============================] - 0s 5ms/step - loss: 104926.9922 - root_mean_squared_error: 133288.6250 - val_loss: 70732.5938 - val_root_mean_squared_error: 86437.7969\n",
            "Epoch 3/100\n",
            "25/25 [==============================] - 0s 4ms/step - loss: 54869.5781 - root_mean_squared_error: 68266.0391 - val_loss: 48512.1602 - val_root_mean_squared_error: 59420.9688\n",
            "Epoch 4/100\n",
            "25/25 [==============================] - 0s 4ms/step - loss: 56419.9961 - root_mean_squared_error: 71246.5938 - val_loss: 59637.0352 - val_root_mean_squared_error: 69781.6875\n",
            "Epoch 5/100\n",
            "25/25 [==============================] - 0s 4ms/step - loss: 53155.2305 - root_mean_squared_error: 66377.5234 - val_loss: 48967.6406 - val_root_mean_squared_error: 60523.3867\n",
            "Epoch 6/100\n",
            "25/25 [==============================] - 0s 5ms/step - loss: 42516.2812 - root_mean_squared_error: 53918.2617 - val_loss: 38782.6211 - val_root_mean_squared_error: 47146.8555\n",
            "Epoch 7/100\n",
            "25/25 [==============================] - 0s 4ms/step - loss: 49249.3281 - root_mean_squared_error: 61326.3906 - val_loss: 44295.6758 - val_root_mean_squared_error: 53272.7773\n",
            "Epoch 8/100\n",
            "25/25 [==============================] - 0s 4ms/step - loss: 46768.8906 - root_mean_squared_error: 57400.4023 - val_loss: 59242.3203 - val_root_mean_squared_error: 70364.0547\n",
            "Epoch 9/100\n",
            "25/25 [==============================] - 0s 4ms/step - loss: 42236.4961 - root_mean_squared_error: 52321.5195 - val_loss: 46181.5508 - val_root_mean_squared_error: 58505.1797\n",
            "Epoch 10/100\n",
            "25/25 [==============================] - 0s 4ms/step - loss: 43515.7188 - root_mean_squared_error: 54397.0625 - val_loss: 52837.6406 - val_root_mean_squared_error: 60758.1797\n",
            "Epoch 11/100\n",
            "25/25 [==============================] - 0s 5ms/step - loss: 39221.6562 - root_mean_squared_error: 48295.7148 - val_loss: 35469.5156 - val_root_mean_squared_error: 45026.4961\n",
            "Epoch 12/100\n",
            "25/25 [==============================] - 0s 5ms/step - loss: 38402.0547 - root_mean_squared_error: 47771.8516 - val_loss: 41093.3281 - val_root_mean_squared_error: 49688.2617\n",
            "Epoch 13/100\n",
            "25/25 [==============================] - 0s 4ms/step - loss: 39337.1719 - root_mean_squared_error: 48973.2734 - val_loss: 37708.6289 - val_root_mean_squared_error: 44624.1641\n",
            "Epoch 14/100\n",
            "25/25 [==============================] - 0s 4ms/step - loss: 39884.5312 - root_mean_squared_error: 50030.2305 - val_loss: 45392.7461 - val_root_mean_squared_error: 53946.0039\n",
            "Epoch 15/100\n",
            "25/25 [==============================] - 0s 4ms/step - loss: 40343.9414 - root_mean_squared_error: 50375.2969 - val_loss: 40099.3125 - val_root_mean_squared_error: 49342.3984\n",
            "Epoch 16/100\n",
            "25/25 [==============================] - 0s 5ms/step - loss: 41823.3477 - root_mean_squared_error: 53512.3750 - val_loss: 53915.4062 - val_root_mean_squared_error: 63934.8398\n",
            "Epoch 17/100\n",
            "25/25 [==============================] - 0s 4ms/step - loss: 40948.3789 - root_mean_squared_error: 51041.1250 - val_loss: 38087.0391 - val_root_mean_squared_error: 45574.3047\n",
            "Epoch 18/100\n",
            "25/25 [==============================] - 0s 4ms/step - loss: 35548.3984 - root_mean_squared_error: 43396.7891 - val_loss: 37345.4883 - val_root_mean_squared_error: 44600.9336\n",
            "Epoch 19/100\n",
            "25/25 [==============================] - 0s 4ms/step - loss: 38733.8906 - root_mean_squared_error: 48053.3555 - val_loss: 51886.1367 - val_root_mean_squared_error: 62239.2734\n",
            "Epoch 20/100\n",
            "25/25 [==============================] - 0s 4ms/step - loss: 44574.6211 - root_mean_squared_error: 55118.3086 - val_loss: 37541.3633 - val_root_mean_squared_error: 45476.4219\n",
            "Epoch 21/100\n",
            "25/25 [==============================] - 0s 4ms/step - loss: 37436.6836 - root_mean_squared_error: 45926.1289 - val_loss: 38498.0352 - val_root_mean_squared_error: 47508.1719\n",
            "Epoch 22/100\n",
            "25/25 [==============================] - 0s 5ms/step - loss: 39199.6992 - root_mean_squared_error: 49223.9336 - val_loss: 44579.8008 - val_root_mean_squared_error: 55044.4414\n",
            "Epoch 23/100\n",
            "25/25 [==============================] - 0s 4ms/step - loss: 40594.6172 - root_mean_squared_error: 50979.1797 - val_loss: 50275.8750 - val_root_mean_squared_error: 59868.5352\n",
            "Epoch 24/100\n",
            "25/25 [==============================] - 0s 4ms/step - loss: 43092.3867 - root_mean_squared_error: 54046.6367 - val_loss: 40980.7383 - val_root_mean_squared_error: 50212.1367\n",
            "Epoch 25/100\n",
            "25/25 [==============================] - 0s 4ms/step - loss: 36713.8594 - root_mean_squared_error: 45130.8242 - val_loss: 44501.7617 - val_root_mean_squared_error: 52745.5664\n",
            "Epoch 26/100\n",
            "25/25 [==============================] - 0s 4ms/step - loss: 35564.2656 - root_mean_squared_error: 44107.9414 - val_loss: 38440.8750 - val_root_mean_squared_error: 47013.3125\n",
            "Epoch 27/100\n",
            "25/25 [==============================] - 0s 4ms/step - loss: 37316.0273 - root_mean_squared_error: 46352.9648 - val_loss: 38821.9414 - val_root_mean_squared_error: 46872.9297\n",
            "Epoch 28/100\n",
            "25/25 [==============================] - 0s 4ms/step - loss: 35535.4023 - root_mean_squared_error: 43499.9570 - val_loss: 43981.8711 - val_root_mean_squared_error: 52894.5547\n",
            "Epoch 29/100\n",
            "25/25 [==============================] - 0s 4ms/step - loss: 39483.6758 - root_mean_squared_error: 49350.9180 - val_loss: 38797.3477 - val_root_mean_squared_error: 46964.0508\n",
            "Epoch 30/100\n",
            "25/25 [==============================] - 0s 4ms/step - loss: 34418.5352 - root_mean_squared_error: 42907.9883 - val_loss: 44020.3594 - val_root_mean_squared_error: 52219.0117\n",
            "Epoch 31/100\n",
            "25/25 [==============================] - 0s 4ms/step - loss: 35585.1758 - root_mean_squared_error: 43459.6914 - val_loss: 34266.3008 - val_root_mean_squared_error: 42592.5781\n",
            "Epoch 32/100\n",
            "25/25 [==============================] - 0s 4ms/step - loss: 36418.2422 - root_mean_squared_error: 46436.3398 - val_loss: 59582.5508 - val_root_mean_squared_error: 69822.1641\n",
            "Epoch 33/100\n",
            "25/25 [==============================] - 0s 4ms/step - loss: 38747.9219 - root_mean_squared_error: 47663.1523 - val_loss: 38828.2969 - val_root_mean_squared_error: 47282.2773\n",
            "Epoch 34/100\n",
            "25/25 [==============================] - 0s 4ms/step - loss: 40334.4844 - root_mean_squared_error: 49755.5664 - val_loss: 43496.6992 - val_root_mean_squared_error: 51266.2461\n",
            "Epoch 35/100\n",
            "25/25 [==============================] - 0s 4ms/step - loss: 40179.2070 - root_mean_squared_error: 49853.0586 - val_loss: 36964.7734 - val_root_mean_squared_error: 44804.4883\n",
            "Epoch 36/100\n",
            "25/25 [==============================] - 0s 4ms/step - loss: 42388.4258 - root_mean_squared_error: 52325.1797 - val_loss: 46409.7500 - val_root_mean_squared_error: 55170.1133\n",
            "Epoch 37/100\n",
            "25/25 [==============================] - 0s 5ms/step - loss: 36719.0664 - root_mean_squared_error: 45913.6445 - val_loss: 45773.5664 - val_root_mean_squared_error: 53704.9531\n",
            "Epoch 38/100\n",
            "25/25 [==============================] - 0s 5ms/step - loss: 36008.0391 - root_mean_squared_error: 45187.5820 - val_loss: 43347.8164 - val_root_mean_squared_error: 51505.3477\n",
            "Epoch 39/100\n",
            "25/25 [==============================] - 0s 5ms/step - loss: 34377.4844 - root_mean_squared_error: 42508.6445 - val_loss: 38196.3242 - val_root_mean_squared_error: 46385.2852\n",
            "Epoch 40/100\n",
            "25/25 [==============================] - 0s 4ms/step - loss: 35326.6914 - root_mean_squared_error: 43571.6328 - val_loss: 34560.3633 - val_root_mean_squared_error: 42827.9766\n",
            "Epoch 41/100\n",
            "25/25 [==============================] - 0s 5ms/step - loss: 35830.6562 - root_mean_squared_error: 44662.9609 - val_loss: 35969.3789 - val_root_mean_squared_error: 43894.8633\n",
            "Epoch 42/100\n",
            "25/25 [==============================] - 0s 5ms/step - loss: 35186.7266 - root_mean_squared_error: 44041.3086 - val_loss: 37501.4141 - val_root_mean_squared_error: 46608.4375\n",
            "Epoch 43/100\n",
            "25/25 [==============================] - 0s 5ms/step - loss: 33313.7539 - root_mean_squared_error: 41998.3945 - val_loss: 38941.5977 - val_root_mean_squared_error: 47105.1406\n",
            "Epoch 44/100\n",
            "25/25 [==============================] - 0s 5ms/step - loss: 37207.8633 - root_mean_squared_error: 46612.0352 - val_loss: 39090.8555 - val_root_mean_squared_error: 48785.1406\n",
            "Epoch 45/100\n",
            "25/25 [==============================] - 0s 4ms/step - loss: 35892.8086 - root_mean_squared_error: 45164.9648 - val_loss: 42446.5156 - val_root_mean_squared_error: 53302.6680\n",
            "Epoch 46/100\n",
            "25/25 [==============================] - 0s 5ms/step - loss: 37836.0039 - root_mean_squared_error: 47402.5781 - val_loss: 38644.3984 - val_root_mean_squared_error: 46673.8516\n",
            "Epoch 47/100\n",
            "25/25 [==============================] - 0s 4ms/step - loss: 35395.4219 - root_mean_squared_error: 44165.5664 - val_loss: 39939.2695 - val_root_mean_squared_error: 47314.6758\n",
            "Epoch 48/100\n",
            "25/25 [==============================] - 0s 4ms/step - loss: 34094.1055 - root_mean_squared_error: 42783.0469 - val_loss: 41064.7773 - val_root_mean_squared_error: 48256.6992\n",
            "Epoch 49/100\n",
            "25/25 [==============================] - 0s 4ms/step - loss: 36389.5117 - root_mean_squared_error: 45761.9375 - val_loss: 40168.0078 - val_root_mean_squared_error: 48994.6250\n",
            "Epoch 50/100\n",
            "25/25 [==============================] - 0s 5ms/step - loss: 35835.1016 - root_mean_squared_error: 45052.3008 - val_loss: 49369.2461 - val_root_mean_squared_error: 58307.4375\n",
            "Epoch 51/100\n",
            "25/25 [==============================] - 0s 7ms/step - loss: 39444.4336 - root_mean_squared_error: 49225.3125 - val_loss: 47509.6094 - val_root_mean_squared_error: 57409.1055\n",
            "Epoch 52/100\n",
            "25/25 [==============================] - 0s 7ms/step - loss: 38230.1016 - root_mean_squared_error: 47339.0664 - val_loss: 44829.9258 - val_root_mean_squared_error: 55724.5859\n",
            "Epoch 53/100\n",
            "25/25 [==============================] - 0s 6ms/step - loss: 34157.5391 - root_mean_squared_error: 42332.0703 - val_loss: 39343.8398 - val_root_mean_squared_error: 48093.8672\n",
            "Epoch 54/100\n",
            "25/25 [==============================] - 0s 7ms/step - loss: 36619.1602 - root_mean_squared_error: 45429.8242 - val_loss: 44271.3281 - val_root_mean_squared_error: 53652.4297\n",
            "Epoch 55/100\n",
            "25/25 [==============================] - 0s 6ms/step - loss: 38760.7891 - root_mean_squared_error: 48165.3008 - val_loss: 47774.7461 - val_root_mean_squared_error: 57551.0273\n",
            "Epoch 56/100\n",
            "25/25 [==============================] - 0s 7ms/step - loss: 41234.8945 - root_mean_squared_error: 52520.2344 - val_loss: 36056.4531 - val_root_mean_squared_error: 45879.5078\n",
            "Epoch 57/100\n",
            "25/25 [==============================] - 0s 6ms/step - loss: 37235.4219 - root_mean_squared_error: 46773.9844 - val_loss: 41013.8477 - val_root_mean_squared_error: 50138.5156\n",
            "Epoch 58/100\n",
            "25/25 [==============================] - 0s 6ms/step - loss: 35947.0078 - root_mean_squared_error: 44885.6953 - val_loss: 41759.4258 - val_root_mean_squared_error: 49392.8789\n",
            "Epoch 59/100\n",
            "25/25 [==============================] - 0s 6ms/step - loss: 35103.0977 - root_mean_squared_error: 42756.7305 - val_loss: 35393.0586 - val_root_mean_squared_error: 45393.3398\n",
            "Epoch 60/100\n",
            "25/25 [==============================] - 0s 7ms/step - loss: 34892.5586 - root_mean_squared_error: 43633.3828 - val_loss: 41626.8516 - val_root_mean_squared_error: 49208.3281\n",
            "Epoch 61/100\n",
            "25/25 [==============================] - 0s 6ms/step - loss: 37505.6719 - root_mean_squared_error: 47621.0625 - val_loss: 44714.4141 - val_root_mean_squared_error: 53337.0820\n",
            "Epoch 62/100\n",
            "25/25 [==============================] - 0s 7ms/step - loss: 39357.9805 - root_mean_squared_error: 49253.4297 - val_loss: 37567.2617 - val_root_mean_squared_error: 45955.9531\n",
            "Epoch 63/100\n",
            "25/25 [==============================] - 0s 6ms/step - loss: 40771.6211 - root_mean_squared_error: 50801.8828 - val_loss: 59329.1133 - val_root_mean_squared_error: 69250.8984\n",
            "Epoch 64/100\n",
            "25/25 [==============================] - 0s 5ms/step - loss: 50535.0469 - root_mean_squared_error: 63065.2852 - val_loss: 37022.9219 - val_root_mean_squared_error: 47991.7930\n",
            "Epoch 65/100\n",
            "25/25 [==============================] - 0s 6ms/step - loss: 34230.3242 - root_mean_squared_error: 42847.9531 - val_loss: 38872.8594 - val_root_mean_squared_error: 47286.9180\n",
            "Epoch 66/100\n",
            "25/25 [==============================] - 0s 6ms/step - loss: 33536.8320 - root_mean_squared_error: 41300.4492 - val_loss: 39877.5234 - val_root_mean_squared_error: 47655.2695\n",
            "Epoch 67/100\n",
            "25/25 [==============================] - 0s 6ms/step - loss: 33970.0000 - root_mean_squared_error: 42555.6562 - val_loss: 40283.4258 - val_root_mean_squared_error: 47305.5547\n",
            "Epoch 68/100\n",
            "25/25 [==============================] - 0s 6ms/step - loss: 34411.3906 - root_mean_squared_error: 43463.6875 - val_loss: 43482.4258 - val_root_mean_squared_error: 53078.8398\n",
            "Epoch 69/100\n",
            "25/25 [==============================] - 0s 7ms/step - loss: 34908.8945 - root_mean_squared_error: 43300.7891 - val_loss: 37025.9961 - val_root_mean_squared_error: 46292.7188\n",
            "Epoch 70/100\n",
            "25/25 [==============================] - 0s 7ms/step - loss: 34405.3164 - root_mean_squared_error: 43069.5000 - val_loss: 35684.0664 - val_root_mean_squared_error: 44172.4688\n",
            "Epoch 71/100\n",
            "25/25 [==============================] - 0s 6ms/step - loss: 32313.2969 - root_mean_squared_error: 40227.4062 - val_loss: 48665.9258 - val_root_mean_squared_error: 58141.4062\n",
            "Epoch 72/100\n",
            "25/25 [==============================] - 0s 6ms/step - loss: 38230.9531 - root_mean_squared_error: 47590.5547 - val_loss: 39667.1523 - val_root_mean_squared_error: 48695.6914\n",
            "Epoch 73/100\n",
            "25/25 [==============================] - 0s 4ms/step - loss: 35376.9414 - root_mean_squared_error: 44066.2773 - val_loss: 43835.9883 - val_root_mean_squared_error: 52195.8789\n",
            "Epoch 74/100\n",
            "25/25 [==============================] - 0s 4ms/step - loss: 34361.7266 - root_mean_squared_error: 42639.2852 - val_loss: 42495.0781 - val_root_mean_squared_error: 51161.3398\n",
            "Epoch 75/100\n",
            "25/25 [==============================] - 0s 5ms/step - loss: 45746.3945 - root_mean_squared_error: 57963.0938 - val_loss: 46410.7148 - val_root_mean_squared_error: 57259.3477\n",
            "Epoch 76/100\n",
            "25/25 [==============================] - 0s 4ms/step - loss: 35419.1445 - root_mean_squared_error: 43738.3516 - val_loss: 37285.5859 - val_root_mean_squared_error: 44921.2266\n",
            "Epoch 77/100\n",
            "25/25 [==============================] - 0s 5ms/step - loss: 35060.1055 - root_mean_squared_error: 43832.1719 - val_loss: 39086.4766 - val_root_mean_squared_error: 48375.0898\n",
            "Epoch 78/100\n",
            "25/25 [==============================] - 0s 4ms/step - loss: 33300.1406 - root_mean_squared_error: 42628.2734 - val_loss: 44214.4844 - val_root_mean_squared_error: 53078.1992\n",
            "Epoch 79/100\n",
            "25/25 [==============================] - 0s 5ms/step - loss: 33441.7344 - root_mean_squared_error: 41264.9883 - val_loss: 41783.1250 - val_root_mean_squared_error: 49740.3750\n",
            "Epoch 80/100\n",
            "25/25 [==============================] - 0s 4ms/step - loss: 33472.4609 - root_mean_squared_error: 41713.5898 - val_loss: 45219.9766 - val_root_mean_squared_error: 54638.5352\n",
            "Epoch 81/100\n",
            "25/25 [==============================] - 0s 4ms/step - loss: 34376.3789 - root_mean_squared_error: 43105.3047 - val_loss: 38750.8047 - val_root_mean_squared_error: 47124.5000\n",
            "Epoch 82/100\n",
            "25/25 [==============================] - 0s 5ms/step - loss: 31912.0625 - root_mean_squared_error: 39497.2930 - val_loss: 44806.0469 - val_root_mean_squared_error: 54050.6836\n",
            "Epoch 83/100\n",
            "25/25 [==============================] - 0s 4ms/step - loss: 35835.0625 - root_mean_squared_error: 44869.7305 - val_loss: 43723.2266 - val_root_mean_squared_error: 55076.4414\n",
            "Epoch 84/100\n",
            "25/25 [==============================] - 0s 4ms/step - loss: 44444.6016 - root_mean_squared_error: 55950.5742 - val_loss: 38623.8516 - val_root_mean_squared_error: 48668.7148\n",
            "Epoch 85/100\n",
            "25/25 [==============================] - 0s 4ms/step - loss: 34192.8125 - root_mean_squared_error: 42595.4766 - val_loss: 49387.6797 - val_root_mean_squared_error: 60098.1914\n",
            "Epoch 86/100\n",
            "25/25 [==============================] - 0s 4ms/step - loss: 36027.7305 - root_mean_squared_error: 44998.7930 - val_loss: 40615.8242 - val_root_mean_squared_error: 51157.7031\n",
            "Epoch 87/100\n",
            "25/25 [==============================] - 0s 4ms/step - loss: 32930.2891 - root_mean_squared_error: 41692.2891 - val_loss: 41365.0391 - val_root_mean_squared_error: 50089.9531\n",
            "Epoch 88/100\n",
            "25/25 [==============================] - 0s 5ms/step - loss: 32053.2109 - root_mean_squared_error: 40276.3555 - val_loss: 37539.4062 - val_root_mean_squared_error: 45060.3203\n",
            "Epoch 89/100\n",
            "25/25 [==============================] - 0s 5ms/step - loss: 36305.1641 - root_mean_squared_error: 45765.3906 - val_loss: 42405.6797 - val_root_mean_squared_error: 50072.1875\n",
            "Epoch 90/100\n",
            "25/25 [==============================] - 0s 4ms/step - loss: 35450.8164 - root_mean_squared_error: 44945.1836 - val_loss: 39564.8789 - val_root_mean_squared_error: 48831.4453\n",
            "Epoch 91/100\n",
            "25/25 [==============================] - 0s 4ms/step - loss: 37362.7734 - root_mean_squared_error: 47191.2852 - val_loss: 57782.6914 - val_root_mean_squared_error: 68226.9297\n",
            "Epoch 92/100\n",
            "25/25 [==============================] - 0s 4ms/step - loss: 37516.8984 - root_mean_squared_error: 47074.1016 - val_loss: 36586.2695 - val_root_mean_squared_error: 45134.3164\n",
            "Epoch 93/100\n",
            "25/25 [==============================] - 0s 5ms/step - loss: 38075.9922 - root_mean_squared_error: 47191.8711 - val_loss: 70731.7891 - val_root_mean_squared_error: 82610.8125\n",
            "Epoch 94/100\n",
            "25/25 [==============================] - 0s 5ms/step - loss: 33954.3711 - root_mean_squared_error: 42542.2188 - val_loss: 43340.7344 - val_root_mean_squared_error: 51257.4766\n",
            "Epoch 95/100\n",
            "25/25 [==============================] - 0s 4ms/step - loss: 34435.6875 - root_mean_squared_error: 42961.1016 - val_loss: 57689.7969 - val_root_mean_squared_error: 68336.8672\n",
            "Epoch 96/100\n",
            "25/25 [==============================] - 0s 5ms/step - loss: 48987.7148 - root_mean_squared_error: 61493.7461 - val_loss: 66085.7578 - val_root_mean_squared_error: 78701.0234\n",
            "Epoch 97/100\n",
            "25/25 [==============================] - 0s 5ms/step - loss: 39642.7461 - root_mean_squared_error: 50097.0312 - val_loss: 44284.9648 - val_root_mean_squared_error: 55885.0352\n",
            "Epoch 98/100\n",
            "25/25 [==============================] - 0s 4ms/step - loss: 36940.9609 - root_mean_squared_error: 46625.4141 - val_loss: 45463.8281 - val_root_mean_squared_error: 54928.3281\n",
            "Epoch 99/100\n",
            "25/25 [==============================] - 0s 6ms/step - loss: 37258.8203 - root_mean_squared_error: 46307.3008 - val_loss: 39029.9766 - val_root_mean_squared_error: 47997.7656\n",
            "Epoch 100/100\n",
            "25/25 [==============================] - 0s 5ms/step - loss: 32668.8945 - root_mean_squared_error: 41104.0898 - val_loss: 35487.1172 - val_root_mean_squared_error: 45557.9727\n"
          ]
        }
      ]
    },
    {
      "cell_type": "code",
      "source": [
        "import matplotlib.pyplot as plt"
      ],
      "metadata": {
        "id": "InDxEJ3FpIoX"
      },
      "execution_count": 169,
      "outputs": []
    },
    {
      "cell_type": "code",
      "source": [
        "plt.plot(history.history['loss'])\n",
        "plt.plot(history.history['val_loss'])\n",
        "\n",
        "plt.title('model_loss')\n",
        "plt.ylabel('loss')\n",
        "plt.xlabel('epoch')\n",
        "plt.legend(['train' ,'val_loss'])\n",
        "plt.show()"
      ],
      "metadata": {
        "colab": {
          "base_uri": "https://localhost:8080/",
          "height": 472
        },
        "id": "7HX4ClM5squ9",
        "outputId": "ea5bccd8-97fb-4c26-ded9-2dfc0430b19c"
      },
      "execution_count": 170,
      "outputs": [
        {
          "output_type": "display_data",
          "data": {
            "text/plain": [
              "<Figure size 640x480 with 1 Axes>"
            ],
            "image/png": "[encoded data removed]"
          },
          "metadata": {}
        }
      ]
    },
    {
      "cell_type": "code",
      "source": [
        "plt.plot(history.history['root_mean_squared_error'])\n",
        "plt.plot(history.history['val_root_mean_squared_error'])\n",
        "\n",
        "plt.title('model_loss')\n",
        "plt.ylabel('loss')\n",
        "plt.xlabel('epoch')\n",
        "plt.legend(['train , val'])\n",
        "plt.show()"
      ],
      "metadata": {
        "colab": {
          "base_uri": "https://localhost:8080/",
          "height": 472
        },
        "id": "zMqRgg4gtGel",
        "outputId": "f29345f8-3026-4b0c-8e2c-93dc9e82448b"
      },
      "execution_count": 173,
      "outputs": [
        {
          "output_type": "display_data",
          "data": {
            "text/plain": [
              "<Figure size 640x480 with 1 Axes>"
            ],
            "image/png": "[encoded data removed]"
          },
          "metadata": {}
        }
      ]
    },
    {
      "cell_type": "code",
      "source": [],
      "metadata": {
        "id": "rysuM77Gu9P3"
      },
      "execution_count": 173,
      "outputs": []
    },
    {
      "cell_type": "code",
      "source": [
        "model.predict(X_test)"
      ],
      "metadata": {
        "colab": {
          "base_uri": "https://localhost:8080/"
        },
        "id": "hVqKkHpzvQ75",
        "outputId": "8b2dea53-28d3-40a3-a21c-67dec31f41b8"
      },
      "execution_count": 174,
      "outputs": [
        {
          "output_type": "stream",
          "name": "stdout",
          "text": [
            "4/4 [==============================] - 0s 3ms/step\n"
          ]
        },
        {
          "output_type": "execute_result",
          "data": {
            "text/plain": [
              "array([[227926.81 ],\n",
              "       [560737.9  ],\n",
              "       [384595.56 ],\n",
              "       [163542.58 ],\n",
              "       [372243.12 ],\n",
              "       [464095.3  ],\n",
              "       [447540.97 ],\n",
              "       [434988.44 ],\n",
              "       [476022.06 ],\n",
              "       [498249.56 ],\n",
              "       [173001.94 ],\n",
              "       [269110.4  ],\n",
              "       [304843.66 ],\n",
              "       [435898.88 ],\n",
              "       [184785.08 ],\n",
              "       [419588.16 ],\n",
              "       [514406.1  ],\n",
              "       [121161.88 ],\n",
              "       [306364.78 ],\n",
              "       [406847.   ],\n",
              "       [427705.   ],\n",
              "       [506031.6  ],\n",
              "       [263125.44 ],\n",
              "       [332270.78 ],\n",
              "       [237227.3  ],\n",
              "       [391034.7  ],\n",
              "       [113723.625],\n",
              "       [310814.5  ],\n",
              "       [530952.   ],\n",
              "       [373394.28 ],\n",
              "       [505745.8  ],\n",
              "       [242383.62 ],\n",
              "       [369943.66 ],\n",
              "       [147179.17 ],\n",
              "       [266419.7  ],\n",
              "       [148531.9  ],\n",
              "       [290222.28 ],\n",
              "       [464084.47 ],\n",
              "       [184383.6  ],\n",
              "       [152005.45 ],\n",
              "       [215343.61 ],\n",
              "       [476453.72 ],\n",
              "       [322335.06 ],\n",
              "       [511286.97 ],\n",
              "       [457832.62 ],\n",
              "       [289936.22 ],\n",
              "       [ 78572.914],\n",
              "       [514810.9  ],\n",
              "       [427416.84 ],\n",
              "       [164709.89 ],\n",
              "       [378375.44 ],\n",
              "       [209762.66 ],\n",
              "       [319062.16 ],\n",
              "       [140049.88 ],\n",
              "       [370249.06 ],\n",
              "       [503671.44 ],\n",
              "       [106805.71 ],\n",
              "       [ 97803.46 ],\n",
              "       [337702.25 ],\n",
              "       [384717.2  ],\n",
              "       [324705.38 ],\n",
              "       [341090.94 ],\n",
              "       [177233.23 ],\n",
              "       [352979.28 ],\n",
              "       [455491.12 ],\n",
              "       [545852.5  ],\n",
              "       [180582.03 ],\n",
              "       [370701.4  ],\n",
              "       [332328.38 ],\n",
              "       [202600.03 ],\n",
              "       [468035.44 ],\n",
              "       [311004.66 ],\n",
              "       [309210.8  ],\n",
              "       [209875.83 ],\n",
              "       [209376.31 ],\n",
              "       [399123.16 ],\n",
              "       [526111.6  ],\n",
              "       [504883.38 ],\n",
              "       [429526.7  ],\n",
              "       [193476.77 ],\n",
              "       [240792.   ],\n",
              "       [462354.66 ],\n",
              "       [248561.58 ],\n",
              "       [456808.88 ],\n",
              "       [179168.38 ],\n",
              "       [408050.66 ],\n",
              "       [389285.7  ],\n",
              "       [437035.88 ],\n",
              "       [454754.3  ],\n",
              "       [107350.695],\n",
              "       [154350.36 ],\n",
              "       [465671.72 ],\n",
              "       [309252.44 ],\n",
              "       [371904.1  ],\n",
              "       [432237.2  ],\n",
              "       [233763.06 ],\n",
              "       [311454.22 ],\n",
              "       [371181.   ],\n",
              "       [481205.16 ],\n",
              "       [119578.43 ]], dtype=float32)"
            ]
          },
          "metadata": {},
          "execution_count": 174
        }
      ]
    },
    {
      "cell_type": "code",
      "source": [
        "model.predict(tf.expand_dims(X_test[0] , axis = 0))"
      ],
      "metadata": {
        "colab": {
          "base_uri": "https://localhost:8080/"
        },
        "id": "rr2pKF-m21xm",
        "outputId": "6d62a517-4d2d-426d-c5d2-62e41e893913"
      },
      "execution_count": 175,
      "outputs": [
        {
          "output_type": "stream",
          "name": "stdout",
          "text": [
            "1/1 [==============================] - 0s 29ms/step\n"
          ]
        },
        {
          "output_type": "execute_result",
          "data": {
            "text/plain": [
              "array([[227926.78]], dtype=float32)"
            ]
          },
          "metadata": {},
          "execution_count": 175
        }
      ]
    },
    {
      "cell_type": "code",
      "source": [
        "y_test[0]"
      ],
      "metadata": {
        "colab": {
          "base_uri": "https://localhost:8080/"
        },
        "id": "pO-7yjDZ3SwT",
        "outputId": "917395bc-84fa-4b07-ba1c-c47cd3123c69"
      },
      "execution_count": 176,
      "outputs": [
        {
          "output_type": "execute_result",
          "data": {
            "text/plain": [
              "<tf.Tensor: shape=(1,), dtype=float32, numpy=array([247277.5], dtype=float32)>"
            ]
          },
          "metadata": {},
          "execution_count": 176
        }
      ]
    },
    {
      "cell_type": "code",
      "source": [
        "y_true = list(y_test[: , 0])\n",
        "y_pred = list(model.predict(X_test)[:,0])"
      ],
      "metadata": {
        "colab": {
          "base_uri": "https://localhost:8080/"
        },
        "id": "v1ROuEUS4xei",
        "outputId": "4fc34945-5fad-4636-a4f0-073b013bedec"
      },
      "execution_count": 177,
      "outputs": [
        {
          "output_type": "stream",
          "name": "stdout",
          "text": [
            "4/4 [==============================] - 0s 3ms/step\n"
          ]
        }
      ]
    },
    {
      "cell_type": "code",
      "source": [
        "\n",
        "\n",
        "\n",
        "\n",
        "\n",
        "\n",
        "bar_width = 0.4\n",
        "index = np.arange(100)\n",
        "\n",
        "plt.figure(figsize=(10, 6))\n",
        "bar1 = plt.bar(index, y_true,  bar_width, label='y_test')\n",
        "bar2 = plt.bar(index + bar_width, y_pred, bar_width, label='y_pred', color='orange')\n",
        "\n",
        "# Add labels and title\n",
        "plt.xlabel('Sample Index')\n",
        "plt.ylabel('Values')\n",
        "plt.title('Comparison between y_pred and y_test')\n",
        "plt.legend()\n",
        "\n",
        "# Show the plot\n",
        "plt.show()"
      ],
      "metadata": {
        "colab": {
          "base_uri": "https://localhost:8080/",
          "height": 564
        },
        "id": "0WDbFnim3-KF",
        "outputId": "fc796270-bdad-4366-a5c9-9995dbf0ef75"
      },
      "execution_count": 178,
      "outputs": [
        {
          "output_type": "display_data",
          "data": {
            "text/plain": [
              "<Figure size 1000x600 with 1 Axes>"
            ],
            "image/png": "[encoded data removed]"
          },
          "metadata": {}
        }
      ]
    },
    {
      "cell_type": "code",
      "source": [],
      "metadata": {
        "id": "AJm0-GuF8ReY"
      },
      "execution_count": null,
      "outputs": []
    }
  ]
}